{
 "cells": [
  {
   "cell_type": "code",
   "execution_count": 7,
   "metadata": {},
   "outputs": [
    {
     "name": "stderr",
     "output_type": "stream",
     "text": [
      "WARNING: Logging before flag parsing goes to stderr.\n",
      "W0116 04:39:09.835110  3744 deprecation.py:506] From C:\\ProgramData\\Anaconda3\\lib\\site-packages\\tensorflow\\python\\ops\\init_ops.py:1251: calling VarianceScaling.__init__ (from tensorflow.python.ops.init_ops) with dtype is deprecated and will be removed in a future version.\n",
      "Instructions for updating:\n",
      "Call initializer instance with the dtype argument instead of passing it to the constructor\n"
     ]
    },
    {
     "name": "stdout",
     "output_type": "stream",
     "text": [
      "Model: \"sequential_1\"\n",
      "_________________________________________________________________\n",
      "Layer (type)                 Output Shape              Param #   \n",
      "=================================================================\n",
      "conv2d (Conv2D)              (None, 26, 26, 32)        320       \n",
      "_________________________________________________________________\n",
      "conv2d_1 (Conv2D)            (None, 24, 24, 64)        18496     \n",
      "_________________________________________________________________\n",
      "max_pooling2d (MaxPooling2D) (None, 12, 12, 64)        0         \n",
      "_________________________________________________________________\n",
      "dropout (Dropout)            (None, 12, 12, 64)        0         \n",
      "_________________________________________________________________\n",
      "flatten (Flatten)            (None, 9216)              0         \n",
      "_________________________________________________________________\n",
      "dense (Dense)                (None, 128)               1179776   \n",
      "_________________________________________________________________\n",
      "dropout_1 (Dropout)          (None, 128)               0         \n",
      "_________________________________________________________________\n",
      "dense_1 (Dense)              (None, 10)                1290      \n",
      "=================================================================\n",
      "Total params: 1,199,882\n",
      "Trainable params: 1,199,882\n",
      "Non-trainable params: 0\n",
      "_________________________________________________________________\n",
      "Train on 60000 samples, validate on 10000 samples\n",
      "Epoch 1/3\n",
      "60000/60000 [==============================] - 124s 2ms/sample - loss: 0.5347 - acc: 0.8121 - val_loss: 0.3429 - val_acc: 0.8751\n",
      "Epoch 2/3\n",
      "60000/60000 [==============================] - 129s 2ms/sample - loss: 0.3457 - acc: 0.8782 - val_loss: 0.2891 - val_acc: 0.8960\n",
      "Epoch 3/3\n",
      "60000/60000 [==============================] - 100s 2ms/sample - loss: 0.2973 - acc: 0.8932 - val_loss: 0.2684 - val_acc: 0.9027\n"
     ]
    },
    {
     "data": {
      "text/plain": [
       "[0.2683546315073967, 0.9027]"
      ]
     },
     "execution_count": 7,
     "metadata": {},
     "output_type": "execute_result"
    }
   ],
   "source": [
    "import tensorflow as tf\n",
    "from tensorflow import keras as ks\n",
    "\n",
    "(train_images , train_labels) , (test_images , test_labels) = ks.datasets.fashion_mnist.load_data()\n",
    "\n",
    "x_train = train_images.reshape(train_images.shape[0] , 28 ,28 ,1)\n",
    "x_test = test_images.reshape(test_images.shape[0] , 28 ,28 ,1)\n",
    "\n",
    "x_train = x_train.astype('float32')/255.\n",
    "x_test = x_test.astype('float32')/255.\n",
    "\n",
    "y_train = ks.utils.to_categorical(train_labels ,10)\n",
    "y_test = ks.utils.to_categorical(test_labels ,10)\n",
    "\n",
    "input_shape = [28,28,1]\n",
    "\n",
    "model = ks.Sequential()\n",
    "model.add(ks.layers.Conv2D(32 , kernel_size =(3,3) , activation = 'relu' , input_shape = input_shape))\n",
    "model.add(ks.layers.Conv2D(64 ,(3,3) , activation = 'relu' ))\n",
    "model.add(ks.layers.MaxPooling2D(pool_size =(2,2)))\n",
    "model.add(ks.layers.Dropout(0.25))\n",
    "model.add(ks.layers.Flatten())\n",
    "model.add(ks.layers.Dense(128 , activation = 'relu'))\n",
    "model.add(ks.layers.Dropout(0.5))\n",
    "model.add(ks.layers.Dense(10, activation = 'softmax'))\n",
    "model.summary()\n",
    "\n",
    "model.compile(loss = ks.losses.categorical_crossentropy , optimizer = 'adam' , metrics = ['accuracy'])\n",
    "\n",
    "model.fit(x_train , y_train , batch_size =128 , epochs = 3 , verbose = 1 , validation_data = (x_test, y_test))\n",
    "score = model.evaluate(x_test , y_test , verbose = 0)\n",
    "score\n"
   ]
  }
 ],
 "metadata": {
  "kernelspec": {
   "display_name": "Python 3",
   "language": "python",
   "name": "python3"
  },
  "language_info": {
   "codemirror_mode": {
    "name": "ipython",
    "version": 3
   },
   "file_extension": ".py",
   "mimetype": "text/x-python",
   "name": "python",
   "nbconvert_exporter": "python",
   "pygments_lexer": "ipython3",
   "version": "3.7.3"
  }
 },
 "nbformat": 4,
 "nbformat_minor": 2
}
