{
 "cells": [
  {
   "cell_type": "code",
   "execution_count": 1,
   "metadata": {},
   "outputs": [],
   "source": [
    "import random"
   ]
  },
  {
   "cell_type": "code",
   "execution_count": 2,
   "metadata": {},
   "outputs": [
    {
     "name": "stdout",
     "output_type": "stream",
     "text": [
      "enter the num of games you would like to play 4\n"
     ]
    }
   ],
   "source": [
    "games = int (input(\"enter the num of games you would like to play \"))"
   ]
  },
  {
   "cell_type": "code",
   "execution_count": 4,
   "metadata": {},
   "outputs": [
    {
     "name": "stdout",
     "output_type": "stream",
     "text": [
      "game number 1\n",
      " guess the number between 1 and 2599\n",
      " you selected a number above 25\n",
      "game number 2\n",
      " guess the number between 1 and 2577\n",
      " you selected a number above 25\n",
      "game number 3\n",
      " guess the number between 1 and 250\n",
      "you selected a number below 1 \n",
      "game number 4\n",
      " guess the number between 1 and 256\n",
      "you guess is wrong\n"
     ]
    }
   ],
   "source": [
    "for i in range(1 , games+1) :\n",
    "    num = random.randint(1 , 25)\n",
    "    print(\"game number\" , i)\n",
    "    guess = int(input (\" guess the number between 1 and 25\"))\n",
    "    if guess == num :\n",
    "        print(\"your guess is right\")\n",
    "    else :\n",
    "        if guess > 25:\n",
    "            print (\" you selected a number above 25\")\n",
    "        elif (guess < 1) :\n",
    "            print (\"you selected a number below 1 \")\n",
    "        else :\n",
    "            print (\"you guess is wrong\")\n",
    "    \n",
    "    "
   ]
  }
 ],
 "metadata": {
  "kernelspec": {
   "display_name": "Python 3",
   "language": "python",
   "name": "python3"
  },
  "language_info": {
   "codemirror_mode": {
    "name": "ipython",
    "version": 3
   },
   "file_extension": ".py",
   "mimetype": "text/x-python",
   "name": "python",
   "nbconvert_exporter": "python",
   "pygments_lexer": "ipython3",
   "version": "3.7.3"
  }
 },
 "nbformat": 4,
 "nbformat_minor": 2
}
